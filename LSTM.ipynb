{
 "cells": [
  {
   "cell_type": "code",
   "execution_count": 3,
   "metadata": {},
   "outputs": [],
   "source": [
    "import torch\n",
    "import torch.nn as nn\n",
    "import torch.optim as optim\n",
    "from dataset import *\n",
    "device = torch.device(\"cuda\" if torch.cuda.is_available() else \"cpu\")\n",
    "\n",
    "# 定义模型\n",
    "class ModifiedModel(nn.Module):\n",
    "    def __init__(self, input_size, keyword_size, hidden_size, num_layers, output_size, dropout=0.5):\n",
    "        super(ModifiedModel, self).__init__()\n",
    "        self.embedding_sentence = nn.Embedding(input_size, hidden_size)\n",
    "        self.embedding_keyword = nn.Embedding(keyword_size, hidden_size)\n",
    "        self.lstm1 = nn.LSTM(hidden_size, hidden_size, num_layers, batch_first=True, bidirectional=True)\n",
    "        self.fc1 = nn.Linear(hidden_size * 2, hidden_size)\n",
    "        self.fc2 = nn.Linear(hidden_size, output_size)\n",
    "\n",
    "    def forward(self, sentence, keyword):\n",
    "        embedded_sentence = self.embedding_sentence(sentence)\n",
    "        embedded_keyword = self.embedding_keyword(keyword)\n",
    "        # Concatenate embedded sentence and keyword\n",
    "        embedded = torch.cat((embedded_sentence, embedded_keyword), dim=1)\n",
    "        # First LSTM Layer\n",
    "        lstm_out1, _ = self.lstm1(embedded)\n",
    "        # Fully Connected Layer 1\n",
    "        hidden_state1 = self.fc1(lstm_out1)\n",
    "\n",
    "        hidden_state2 = self.fc2(hidden_state1)\n",
    "        \n",
    "        last_hidden_state2 = hidden_state2[:, -1, :]\n",
    "\n",
    "        return last_hidden_state2\n",
    "\n",
    "\n",
    "\n",
    "\n",
    "# 定义模型参数\n",
    "input_size = 89206  # 输入数据的词汇表大小\n",
    "hidden_size = 512  # LSTM隐藏层的大小\n",
    "keyword_size = 89206  # 关键词的维度\n",
    "num_layers = 2  # LSTM层数\n",
    "output_size = 2  # 输出类别数\n",
    "\n",
    "# 创建模型实例，并将其移动到 GPU 设备上\n",
    "model = ModifiedModel(input_size, keyword_size, hidden_size, num_layers, output_size).to(device)\n",
    "\n",
    "# 定义损失函数和优化器\n",
    "criterion = nn.CrossEntropyLoss()\n",
    "optimizer = torch.optim.Adam(model.parameters(), lr=0.002)"
   ]
  },
  {
   "cell_type": "code",
   "execution_count": 4,
   "metadata": {},
   "outputs": [
    {
     "name": "stdout",
     "output_type": "stream",
     "text": [
      "Model loaded succeed\n",
      "Model loaded succeed\n"
     ]
    }
   ],
   "source": [
    "from dataset import *\n",
    "trainset = Comment(train=True)\n",
    "trainloader = DataLoader(trainset, batch_size=256, shuffle=True, collate_fn=collate_fn)  # 创建训练集的 DataLoader 对象\n",
    "\n",
    "testset = Comment(train=False)\n",
    "testloader = DataLoader(testset, batch_size=256, shuffle=False, collate_fn=collate_fn)  # 创建测试集的 DataLoader 对象\n"
   ]
  },
  {
   "cell_type": "code",
   "execution_count": 5,
   "metadata": {},
   "outputs": [
    {
     "name": "stdout",
     "output_type": "stream",
     "text": [
      "Epoch 1/10: Loss = 0.6259, Accuracy = 0.6447\n",
      "Epoch 1/10: Loss = 0.6259, Train Accuracy = 0.6447, Test Accuracy = 0.7526\n",
      "Epoch 2/10: Loss = 0.4077, Accuracy = 0.8156\n",
      "Epoch 2/10: Loss = 0.4077, Train Accuracy = 0.8156, Test Accuracy = 0.8643\n",
      "Epoch 3/10: Loss = 0.2160, Accuracy = 0.9148\n",
      "Epoch 3/10: Loss = 0.2160, Train Accuracy = 0.9148, Test Accuracy = 0.8962\n",
      "Epoch 4/10: Loss = 0.0987, Accuracy = 0.9637\n",
      "Epoch 4/10: Loss = 0.0987, Train Accuracy = 0.9637, Test Accuracy = 0.8921\n",
      "Epoch 5/10: Loss = 0.0489, Accuracy = 0.9828\n",
      "Epoch 5/10: Loss = 0.0489, Train Accuracy = 0.9828, Test Accuracy = 0.9053\n",
      "Epoch 6/10: Loss = 0.0314, Accuracy = 0.9895\n",
      "Epoch 6/10: Loss = 0.0314, Train Accuracy = 0.9895, Test Accuracy = 0.9101\n",
      "Epoch 7/10: Loss = 0.0220, Accuracy = 0.9929\n",
      "Epoch 7/10: Loss = 0.0220, Train Accuracy = 0.9929, Test Accuracy = 0.9108\n",
      "Epoch 8/10: Loss = 0.0181, Accuracy = 0.9940\n",
      "Epoch 8/10: Loss = 0.0181, Train Accuracy = 0.9940, Test Accuracy = 0.9141\n",
      "Epoch 9/10: Loss = 0.0129, Accuracy = 0.9961\n",
      "Epoch 9/10: Loss = 0.0129, Train Accuracy = 0.9961, Test Accuracy = 0.9070\n",
      "Epoch 10/10: Loss = 0.0124, Accuracy = 0.9957\n",
      "Epoch 10/10: Loss = 0.0124, Train Accuracy = 0.9957, Test Accuracy = 0.9214\n"
     ]
    },
    {
     "data": {
      "image/png": "[encoded data removed]",
      "text/plain": [
       "<Figure size 432x288 with 1 Axes>"
      ]
     },
     "metadata": {
      "needs_background": "light"
     },
     "output_type": "display_data"
    }
   ],
   "source": [
    "\n",
    "# 记录每个 epoch 的训练损失、训练准确率和测试准确率\n",
    "train_losses = []\n",
    "train_accuracies = []\n",
    "test_accuracies = []\n",
    "\n",
    "# 训练模型\n",
    "num_epochs = 10\n",
    "for epoch in range(num_epochs):\n",
    "    total_loss = 0.0\n",
    "    correct = 0\n",
    "    total = 0\n",
    "    \n",
    "    # 在每个迭代步骤中，获取批次数据并进行前向传播、损失计算和反向传播\n",
    "    for inputs, keywords, labels in trainloader:\n",
    "        # 省略训练步骤的代码\n",
    "        model.train()\n",
    "        inputs = inputs.to(torch.long).to(device)  # 将输入序列转换为torch.LongTensor类型\n",
    "        keywords = keywords.to(torch.long).to(device)  # 将关键词序列转换为torch.LongTensor类型\n",
    "        labels = labels.to(torch.long).to(device)  # 将标签转换为torch.cuda.LongTensor类型\n",
    "        \n",
    "        optimizer.zero_grad()\n",
    "        \n",
    "        outputs = model(inputs, keywords)  # 进行前向传播，注意传入关键词序列\n",
    "        loss = criterion(outputs, labels)\n",
    "        loss.backward()\n",
    "        optimizer.step()\n",
    "        \n",
    "        total_loss += loss.item()\n",
    "        _, predicted = outputs.max(1)\n",
    "        correct += predicted.eq(labels).sum().item()\n",
    "        total += labels.size(0)\n",
    "    \n",
    "    # 打印每个 epoch 的训练损失和准确率\n",
    "    print(f\"Epoch {epoch+1}/{num_epochs}: Loss = {total_loss/len(trainloader):.4f}, Accuracy = {correct/total:.4f}\")\n",
    "    # 在每个 epoch 结束后在测试集上评估模型\n",
    "    model.eval()\n",
    "    test_correct = 0\n",
    "    test_total = 0\n",
    "    for test_inputs, test_keywords, test_labels in testloader:\n",
    "        test_inputs = test_inputs.to(torch.long).to(device)\n",
    "        test_keywords = test_keywords.to(torch.long).to(device)\n",
    "        test_labels = test_labels.to(torch.long).to(device)\n",
    "        \n",
    "        test_outputs = model(test_inputs, test_keywords)\n",
    "        _, test_predicted = test_outputs.max(1)\n",
    "        test_correct += test_predicted.eq(test_labels).sum().item()\n",
    "        test_total += test_labels.size(0)\n",
    "    \n",
    "    # 计算损失和准确率\n",
    "    epoch_loss = total_loss / len(trainloader)\n",
    "    epoch_train_accuracy = correct / total\n",
    "    epoch_test_accuracy = test_correct / test_total\n",
    "    \n",
    "    # 保存损失和准确率\n",
    "    train_losses.append(epoch_loss)\n",
    "    train_accuracies.append(epoch_train_accuracy)\n",
    "    test_accuracies.append(epoch_test_accuracy)\n",
    "    \n",
    "    # 打印每个 epoch 的训练损失和准确率以及测试准确率\n",
    "    print(f\"Epoch {epoch+1}/{num_epochs}: Loss = {epoch_loss:.4f}, Train Accuracy = {epoch_train_accuracy:.4f}, Test Accuracy = {epoch_test_accuracy:.4f}\")\n",
    "\n",
    "# 绘制损失和准确率图表\n",
    "import matplotlib.pyplot as plt\n",
    "\n",
    "epochs = range(1, num_epochs + 1)\n",
    "plt.plot(epochs, train_losses, label='Train Loss')\n",
    "plt.plot(epochs, train_accuracies, label='Train Accuracy')\n",
    "plt.plot(epochs, test_accuracies, label='Test Accuracy')\n",
    "plt.xlabel('Epochs')\n",
    "plt.ylabel('Value')\n",
    "plt.legend()\n",
    "plt.show()"
   ]
  }
 ],
 "metadata": {
  "kernelspec": {
   "display_name": "Python 3",
   "language": "python",
   "name": "python3"
  },
  "language_info": {
   "codemirror_mode": {
    "name": "ipython",
    "version": 3
   },
   "file_extension": ".py",
   "mimetype": "text/x-python",
   "name": "python",
   "nbconvert_exporter": "python",
   "pygments_lexer": "ipython3",
   "version": "3.10.2"
  },
  "orig_nbformat": 4
 },
 "nbformat": 4,
 "nbformat_minor": 2
}
