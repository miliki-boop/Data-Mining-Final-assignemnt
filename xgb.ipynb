{
 "cells": [
  {
   "cell_type": "code",
   "execution_count": 1,
   "metadata": {},
   "outputs": [],
   "source": [
    "from xgboost import XGBClassifier\n",
    "from sklearn.feature_extraction.text import CountVectorizer\n",
    "from sklearn.model_selection import train_test_split\n",
    "from sklearn.metrics import accuracy_score\n",
    "import pandas as pd\n",
    "\n",
    "file = 'dataset.csv'\n",
    "data = pd.read_csv(file, encoding='ANSI')\n",
    "labels = data[\"label\"]\n",
    "movie_names = data[\"电影名\"]\n",
    "reviews = data[\"短评\"]\n",
    "genre = data[\"类型\"]\n",
    "\n",
    "data = pd.concat([movie_names, reviews, genre], axis=1)\n",
    "texts = data.apply(lambda x: str(x[0]) + str(x[1]) + str(x[2]), axis=1)\n",
    "\n",
    "# 数据预处理和特征提取\n",
    "vectorizer = CountVectorizer()\n",
    "X = vectorizer.fit_transform(texts)  # texts为输入的文本数据\n",
    "y = labels  # labels为对应的标签\n",
    "\n",
    "# 划分训练集和测试集\n",
    "X_train, X_test, y_train, y_test = train_test_split(X, y, test_size=0.2, random_state=42)\n"
   ]
  },
  {
   "cell_type": "code",
   "execution_count": 2,
   "metadata": {},
   "outputs": [],
   "source": [
    "# 构建并训练XGBoost模型\n",
    "model = XGBClassifier(n_estimators=500, max_depth=40)\n",
    "model.fit(X_train, y_train)\n",
    "\n",
    "# 在测试集上进行预测\n",
    "y_pred = model.predict(X_test)\n"
   ]
  },
  {
   "cell_type": "code",
   "execution_count": 3,
   "metadata": {},
   "outputs": [
    {
     "name": "stdout",
     "output_type": "stream",
     "text": [
      "Accuracy: 0.591125\n"
     ]
    }
   ],
   "source": [
    "# 计算准确率\n",
    "accuracy = accuracy_score(y_test, y_pred)\n",
    "print(\"Accuracy:\", accuracy)\n"
   ]
  }
 ],
 "metadata": {
  "kernelspec": {
   "display_name": "Python 3",
   "language": "python",
   "name": "python3"
  },
  "language_info": {
   "codemirror_mode": {
    "name": "ipython",
    "version": 3
   },
   "file_extension": ".py",
   "mimetype": "text/x-python",
   "name": "python",
   "nbconvert_exporter": "python",
   "pygments_lexer": "ipython3",
   "version": "3.10.2"
  },
  "orig_nbformat": 4
 },
 "nbformat": 4,
 "nbformat_minor": 2
}
